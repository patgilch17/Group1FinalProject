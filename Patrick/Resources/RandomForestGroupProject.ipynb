{
 "cells": [
  {
   "cell_type": "code",
   "execution_count": 2,
   "id": "d11a280a",
   "metadata": {},
   "outputs": [],
   "source": [
    "#Import Depdencies\n",
    "import pandas as pd\n",
    "from sklearn.ensemble import RandomForestClassifier\n",
    "from sklearn.preprocessing import StandardScaler\n",
    "from sklearn.model_selection import train_test_split\n",
    "from sklearn.metrics import confusion_matrix, accuracy_score, classification_report\n",
    "import numpy as np"
   ]
  },
  {
   "cell_type": "code",
   "execution_count": 3,
   "id": "ab1b6c5a",
   "metadata": {},
   "outputs": [
    {
     "data": {
      "text/html": [
       "<div>\n",
       "<style scoped>\n",
       "    .dataframe tbody tr th:only-of-type {\n",
       "        vertical-align: middle;\n",
       "    }\n",
       "\n",
       "    .dataframe tbody tr th {\n",
       "        vertical-align: top;\n",
       "    }\n",
       "\n",
       "    .dataframe thead th {\n",
       "        text-align: right;\n",
       "    }\n",
       "</style>\n",
       "<table border=\"1\" class=\"dataframe\">\n",
       "  <thead>\n",
       "    <tr style=\"text-align: right;\">\n",
       "      <th></th>\n",
       "      <th>Year</th>\n",
       "      <th>countycode</th>\n",
       "      <th>State</th>\n",
       "      <th>county</th>\n",
       "      <th>population</th>\n",
       "      <th>deaths</th>\n",
       "      <th>cruderate</th>\n",
       "      <th>DispenseRate</th>\n",
       "      <th>PersonalIncome</th>\n",
       "      <th>PerCapitaPersonalIncome</th>\n",
       "      <th>LessThanHS</th>\n",
       "      <th>HSDiplomaOnly</th>\n",
       "      <th>SomeCollege</th>\n",
       "      <th>BachelorOrHigher</th>\n",
       "      <th>PovertyPop</th>\n",
       "      <th>PovertyRate</th>\n",
       "      <th>UnemployedPop</th>\n",
       "      <th>UnemployedRate</th>\n",
       "    </tr>\n",
       "  </thead>\n",
       "  <tbody>\n",
       "    <tr>\n",
       "      <th>0</th>\n",
       "      <td>2020</td>\n",
       "      <td>1001</td>\n",
       "      <td>AL</td>\n",
       "      <td>Autauga County, AL</td>\n",
       "      <td>56145</td>\n",
       "      <td>Suppressed</td>\n",
       "      <td>Suppressed</td>\n",
       "      <td>98.3</td>\n",
       "      <td>45248.0</td>\n",
       "      <td>58877.0</td>\n",
       "      <td>583908.0</td>\n",
       "      <td>1841556.0</td>\n",
       "      <td>1611361.5</td>\n",
       "      <td>1577674.5</td>\n",
       "      <td>6242.0</td>\n",
       "      <td>11.2</td>\n",
       "      <td>1420.0</td>\n",
       "      <td>5.4</td>\n",
       "    </tr>\n",
       "    <tr>\n",
       "      <th>1</th>\n",
       "      <td>2020</td>\n",
       "      <td>1003</td>\n",
       "      <td>AL</td>\n",
       "      <td>Baldwin County, AL</td>\n",
       "      <td>229287</td>\n",
       "      <td>41</td>\n",
       "      <td>17.9</td>\n",
       "      <td>65.0</td>\n",
       "      <td>51348.0</td>\n",
       "      <td>233140.0</td>\n",
       "      <td>2063583.0</td>\n",
       "      <td>6282463.8</td>\n",
       "      <td>7153754.4</td>\n",
       "      <td>7451827.5</td>\n",
       "      <td>20189.0</td>\n",
       "      <td>8.9</td>\n",
       "      <td>6159.0</td>\n",
       "      <td>6.2</td>\n",
       "    </tr>\n",
       "    <tr>\n",
       "      <th>2</th>\n",
       "      <td>2020</td>\n",
       "      <td>1005</td>\n",
       "      <td>AL</td>\n",
       "      <td>Barbour County, AL</td>\n",
       "      <td>24589</td>\n",
       "      <td>Suppressed</td>\n",
       "      <td>Suppressed</td>\n",
       "      <td>22.8</td>\n",
       "      <td>37120.0</td>\n",
       "      <td>25180.0</td>\n",
       "      <td>597512.7</td>\n",
       "      <td>902416.3</td>\n",
       "      <td>683574.2</td>\n",
       "      <td>275396.8</td>\n",
       "      <td>5548.0</td>\n",
       "      <td>25.5</td>\n",
       "      <td>676.0</td>\n",
       "      <td>7.8</td>\n",
       "    </tr>\n",
       "    <tr>\n",
       "      <th>3</th>\n",
       "      <td>2020</td>\n",
       "      <td>1007</td>\n",
       "      <td>AL</td>\n",
       "      <td>Bibb County, AL</td>\n",
       "      <td>22136</td>\n",
       "      <td>Suppressed</td>\n",
       "      <td>Suppressed</td>\n",
       "      <td>24.8</td>\n",
       "      <td>34598.0</td>\n",
       "      <td>22223.0</td>\n",
       "      <td>431652.0</td>\n",
       "      <td>971770.4</td>\n",
       "      <td>546759.2</td>\n",
       "      <td>263418.4</td>\n",
       "      <td>3549.0</td>\n",
       "      <td>17.8</td>\n",
       "      <td>639.0</td>\n",
       "      <td>7.3</td>\n",
       "    </tr>\n",
       "    <tr>\n",
       "      <th>4</th>\n",
       "      <td>2020</td>\n",
       "      <td>1009</td>\n",
       "      <td>AL</td>\n",
       "      <td>Blount County, AL</td>\n",
       "      <td>57879</td>\n",
       "      <td>Suppressed</td>\n",
       "      <td>Suppressed</td>\n",
       "      <td>22.8</td>\n",
       "      <td>38351.0</td>\n",
       "      <td>59081.0</td>\n",
       "      <td>949215.6</td>\n",
       "      <td>2031552.9</td>\n",
       "      <td>1944734.4</td>\n",
       "      <td>862397.1</td>\n",
       "      <td>7525.0</td>\n",
       "      <td>13.1</td>\n",
       "      <td>1143.0</td>\n",
       "      <td>4.6</td>\n",
       "    </tr>\n",
       "  </tbody>\n",
       "</table>\n",
       "</div>"
      ],
      "text/plain": [
       "   Year  countycode State              county  population      deaths  \\\n",
       "0  2020        1001    AL  Autauga County, AL       56145  Suppressed   \n",
       "1  2020        1003    AL  Baldwin County, AL      229287          41   \n",
       "2  2020        1005    AL  Barbour County, AL       24589  Suppressed   \n",
       "3  2020        1007    AL     Bibb County, AL       22136  Suppressed   \n",
       "4  2020        1009    AL   Blount County, AL       57879  Suppressed   \n",
       "\n",
       "    cruderate  DispenseRate  PersonalIncome  PerCapitaPersonalIncome  \\\n",
       "0  Suppressed          98.3         45248.0                  58877.0   \n",
       "1        17.9          65.0         51348.0                 233140.0   \n",
       "2  Suppressed          22.8         37120.0                  25180.0   \n",
       "3  Suppressed          24.8         34598.0                  22223.0   \n",
       "4  Suppressed          22.8         38351.0                  59081.0   \n",
       "\n",
       "   LessThanHS  HSDiplomaOnly  SomeCollege  BachelorOrHigher  PovertyPop  \\\n",
       "0    583908.0      1841556.0    1611361.5         1577674.5      6242.0   \n",
       "1   2063583.0      6282463.8    7153754.4         7451827.5     20189.0   \n",
       "2    597512.7       902416.3     683574.2          275396.8      5548.0   \n",
       "3    431652.0       971770.4     546759.2          263418.4      3549.0   \n",
       "4    949215.6      2031552.9    1944734.4          862397.1      7525.0   \n",
       "\n",
       "   PovertyRate  UnemployedPop  UnemployedRate  \n",
       "0         11.2         1420.0             5.4  \n",
       "1          8.9         6159.0             6.2  \n",
       "2         25.5          676.0             7.8  \n",
       "3         17.8          639.0             7.3  \n",
       "4         13.1         1143.0             4.6  "
      ]
     },
     "execution_count": 3,
     "metadata": {},
     "output_type": "execute_result"
    }
   ],
   "source": [
    "#file_path = \"testingdata.csv\"\n",
    "file_path = \"Opioid_data_2017_2020_UNCLEAN.csv\"\n",
    "raw_input_df = pd.read_csv(file_path)\n",
    "raw_input_df.head()"
   ]
  },
  {
   "cell_type": "code",
   "execution_count": 4,
   "id": "46ffd8ae",
   "metadata": {},
   "outputs": [
    {
     "data": {
      "text/plain": [
       "Year                         int64\n",
       "countycode                   int64\n",
       "State                       object\n",
       "county                      object\n",
       "population                   int64\n",
       "deaths                      object\n",
       "cruderate                   object\n",
       "DispenseRate               float64\n",
       "PersonalIncome             float64\n",
       "PerCapitaPersonalIncome    float64\n",
       "LessThanHS                 float64\n",
       "HSDiplomaOnly              float64\n",
       "SomeCollege                float64\n",
       "BachelorOrHigher           float64\n",
       "PovertyPop                 float64\n",
       "PovertyRate                float64\n",
       "UnemployedPop              float64\n",
       "UnemployedRate             float64\n",
       "dtype: object"
      ]
     },
     "execution_count": 4,
     "metadata": {},
     "output_type": "execute_result"
    }
   ],
   "source": [
    "raw_input_df.dtypes"
   ]
  },
  {
   "cell_type": "code",
   "execution_count": 5,
   "id": "ac6d23c5",
   "metadata": {},
   "outputs": [
    {
     "data": {
      "text/html": [
       "<div>\n",
       "<style scoped>\n",
       "    .dataframe tbody tr th:only-of-type {\n",
       "        vertical-align: middle;\n",
       "    }\n",
       "\n",
       "    .dataframe tbody tr th {\n",
       "        vertical-align: top;\n",
       "    }\n",
       "\n",
       "    .dataframe thead th {\n",
       "        text-align: right;\n",
       "    }\n",
       "</style>\n",
       "<table border=\"1\" class=\"dataframe\">\n",
       "  <thead>\n",
       "    <tr style=\"text-align: right;\">\n",
       "      <th></th>\n",
       "      <th>Year</th>\n",
       "      <th>countycode</th>\n",
       "      <th>State</th>\n",
       "      <th>county</th>\n",
       "      <th>population</th>\n",
       "      <th>deaths</th>\n",
       "      <th>cruderate</th>\n",
       "      <th>DispenseRate</th>\n",
       "      <th>PersonalIncome</th>\n",
       "      <th>PerCapitaPersonalIncome</th>\n",
       "      <th>LessThanHS</th>\n",
       "      <th>HSDiplomaOnly</th>\n",
       "      <th>SomeCollege</th>\n",
       "      <th>BachelorOrHigher</th>\n",
       "      <th>PovertyPop</th>\n",
       "      <th>PovertyRate</th>\n",
       "      <th>UnemployedPop</th>\n",
       "      <th>UnemployedRate</th>\n",
       "    </tr>\n",
       "  </thead>\n",
       "  <tbody>\n",
       "    <tr>\n",
       "      <th>1</th>\n",
       "      <td>2020</td>\n",
       "      <td>1003</td>\n",
       "      <td>AL</td>\n",
       "      <td>Baldwin County, AL</td>\n",
       "      <td>229287</td>\n",
       "      <td>41</td>\n",
       "      <td>17.9</td>\n",
       "      <td>65.0</td>\n",
       "      <td>51348.0</td>\n",
       "      <td>233140.0</td>\n",
       "      <td>2063583.0</td>\n",
       "      <td>6282463.8</td>\n",
       "      <td>7153754.4</td>\n",
       "      <td>7451827.5</td>\n",
       "      <td>20189.0</td>\n",
       "      <td>8.9</td>\n",
       "      <td>6159.0</td>\n",
       "      <td>6.2</td>\n",
       "    </tr>\n",
       "    <tr>\n",
       "      <th>27</th>\n",
       "      <td>2020</td>\n",
       "      <td>1055</td>\n",
       "      <td>AL</td>\n",
       "      <td>Etowah County, AL</td>\n",
       "      <td>102371</td>\n",
       "      <td>13</td>\n",
       "      <td>12.70</td>\n",
       "      <td>102.8</td>\n",
       "      <td>39795.0</td>\n",
       "      <td>103393.0</td>\n",
       "      <td>1412719.8</td>\n",
       "      <td>3460139.8</td>\n",
       "      <td>3521562.4</td>\n",
       "      <td>1842678.0</td>\n",
       "      <td>15650.0</td>\n",
       "      <td>15.6</td>\n",
       "      <td>3505.0</td>\n",
       "      <td>8.5</td>\n",
       "    </tr>\n",
       "    <tr>\n",
       "      <th>36</th>\n",
       "      <td>2020</td>\n",
       "      <td>1073</td>\n",
       "      <td>AL</td>\n",
       "      <td>Jefferson County, AL</td>\n",
       "      <td>655342</td>\n",
       "      <td>227</td>\n",
       "      <td>34.6</td>\n",
       "      <td>139.0</td>\n",
       "      <td>58053.0</td>\n",
       "      <td>673341.0</td>\n",
       "      <td>5898078.0</td>\n",
       "      <td>17301028.8</td>\n",
       "      <td>19594725.8</td>\n",
       "      <td>22740367.4</td>\n",
       "      <td>92310.0</td>\n",
       "      <td>14.4</td>\n",
       "      <td>21947.0</td>\n",
       "      <td>6.9</td>\n",
       "    </tr>\n",
       "    <tr>\n",
       "      <th>44</th>\n",
       "      <td>2020</td>\n",
       "      <td>1089</td>\n",
       "      <td>AL</td>\n",
       "      <td>Madison County, AL</td>\n",
       "      <td>379453</td>\n",
       "      <td>68</td>\n",
       "      <td>17.9</td>\n",
       "      <td>87.3</td>\n",
       "      <td>56499.0</td>\n",
       "      <td>389696.0</td>\n",
       "      <td>3035624.0</td>\n",
       "      <td>7285497.6</td>\n",
       "      <td>10814410.5</td>\n",
       "      <td>16809767.9</td>\n",
       "      <td>39100.0</td>\n",
       "      <td>10.5</td>\n",
       "      <td>9761.0</td>\n",
       "      <td>5.1</td>\n",
       "    </tr>\n",
       "    <tr>\n",
       "      <th>48</th>\n",
       "      <td>2020</td>\n",
       "      <td>1097</td>\n",
       "      <td>AL</td>\n",
       "      <td>Mobile County, AL</td>\n",
       "      <td>412716</td>\n",
       "      <td>46</td>\n",
       "      <td>11.1</td>\n",
       "      <td>98.0</td>\n",
       "      <td>42837.0</td>\n",
       "      <td>414250.0</td>\n",
       "      <td>4993863.6</td>\n",
       "      <td>14114887.2</td>\n",
       "      <td>12257665.2</td>\n",
       "      <td>9863912.4</td>\n",
       "      <td>71398.0</td>\n",
       "      <td>17.6</td>\n",
       "      <td>16931.0</td>\n",
       "      <td>8.7</td>\n",
       "    </tr>\n",
       "  </tbody>\n",
       "</table>\n",
       "</div>"
      ],
      "text/plain": [
       "    Year  countycode State                county  population deaths cruderate  \\\n",
       "1   2020        1003    AL    Baldwin County, AL      229287     41      17.9   \n",
       "27  2020        1055    AL     Etowah County, AL      102371     13     12.70   \n",
       "36  2020        1073    AL  Jefferson County, AL      655342    227      34.6   \n",
       "44  2020        1089    AL    Madison County, AL      379453     68      17.9   \n",
       "48  2020        1097    AL     Mobile County, AL      412716     46      11.1   \n",
       "\n",
       "    DispenseRate  PersonalIncome  PerCapitaPersonalIncome  LessThanHS  \\\n",
       "1           65.0         51348.0                 233140.0   2063583.0   \n",
       "27         102.8         39795.0                 103393.0   1412719.8   \n",
       "36         139.0         58053.0                 673341.0   5898078.0   \n",
       "44          87.3         56499.0                 389696.0   3035624.0   \n",
       "48          98.0         42837.0                 414250.0   4993863.6   \n",
       "\n",
       "    HSDiplomaOnly  SomeCollege  BachelorOrHigher  PovertyPop  PovertyRate  \\\n",
       "1       6282463.8    7153754.4         7451827.5     20189.0          8.9   \n",
       "27      3460139.8    3521562.4         1842678.0     15650.0         15.6   \n",
       "36     17301028.8   19594725.8        22740367.4     92310.0         14.4   \n",
       "44      7285497.6   10814410.5        16809767.9     39100.0         10.5   \n",
       "48     14114887.2   12257665.2         9863912.4     71398.0         17.6   \n",
       "\n",
       "    UnemployedPop  UnemployedRate  \n",
       "1          6159.0             6.2  \n",
       "27         3505.0             8.5  \n",
       "36        21947.0             6.9  \n",
       "44         9761.0             5.1  \n",
       "48        16931.0             8.7  "
      ]
     },
     "execution_count": 5,
     "metadata": {},
     "output_type": "execute_result"
    }
   ],
   "source": [
    "input_df = raw_input_df.dropna().copy()\n",
    "input_df = input_df.loc[(input_df[\"deaths\"]!=\"Suppressed\")]\n",
    "input_df.head()"
   ]
  },
  {
   "cell_type": "code",
   "execution_count": 6,
   "id": "7abdd34f",
   "metadata": {},
   "outputs": [
    {
     "name": "stdout",
     "output_type": "stream",
     "text": [
      "3065\n",
      "3065\n"
     ]
    }
   ],
   "source": [
    "print(len(input_df))\n",
    "test_df = input_df.loc[(input_df['cruderate']!='Unreliable')]\n",
    "print(len(test_df))"
   ]
  },
  {
   "cell_type": "code",
   "execution_count": 8,
   "id": "ce44d089",
   "metadata": {},
   "outputs": [
    {
     "data": {
      "text/html": [
       "<div>\n",
       "<style scoped>\n",
       "    .dataframe tbody tr th:only-of-type {\n",
       "        vertical-align: middle;\n",
       "    }\n",
       "\n",
       "    .dataframe tbody tr th {\n",
       "        vertical-align: top;\n",
       "    }\n",
       "\n",
       "    .dataframe thead th {\n",
       "        text-align: right;\n",
       "    }\n",
       "</style>\n",
       "<table border=\"1\" class=\"dataframe\">\n",
       "  <thead>\n",
       "    <tr style=\"text-align: right;\">\n",
       "      <th></th>\n",
       "      <th>Year</th>\n",
       "      <th>countycode</th>\n",
       "      <th>State</th>\n",
       "      <th>county</th>\n",
       "      <th>population</th>\n",
       "      <th>deaths</th>\n",
       "      <th>cruderate</th>\n",
       "      <th>DispenseRate</th>\n",
       "      <th>PersonalIncome</th>\n",
       "      <th>PerCapitaPersonalIncome</th>\n",
       "      <th>LessThanHS</th>\n",
       "      <th>HSDiplomaOnly</th>\n",
       "      <th>SomeCollege</th>\n",
       "      <th>BachelorOrHigher</th>\n",
       "      <th>PovertyPop</th>\n",
       "      <th>PovertyRate</th>\n",
       "      <th>UnemployedPop</th>\n",
       "      <th>UnemployedRate</th>\n",
       "    </tr>\n",
       "  </thead>\n",
       "  <tbody>\n",
       "    <tr>\n",
       "      <th>1</th>\n",
       "      <td>2020</td>\n",
       "      <td>1003</td>\n",
       "      <td>AL</td>\n",
       "      <td>Baldwin County, AL</td>\n",
       "      <td>229287</td>\n",
       "      <td>41</td>\n",
       "      <td>17.9</td>\n",
       "      <td>65.0</td>\n",
       "      <td>51348.0</td>\n",
       "      <td>233140.0</td>\n",
       "      <td>20635.830</td>\n",
       "      <td>62824.638</td>\n",
       "      <td>71537.544</td>\n",
       "      <td>74518.275</td>\n",
       "      <td>20189.0</td>\n",
       "      <td>8.9</td>\n",
       "      <td>6159.0</td>\n",
       "      <td>6.2</td>\n",
       "    </tr>\n",
       "    <tr>\n",
       "      <th>27</th>\n",
       "      <td>2020</td>\n",
       "      <td>1055</td>\n",
       "      <td>AL</td>\n",
       "      <td>Etowah County, AL</td>\n",
       "      <td>102371</td>\n",
       "      <td>13</td>\n",
       "      <td>12.7</td>\n",
       "      <td>102.8</td>\n",
       "      <td>39795.0</td>\n",
       "      <td>103393.0</td>\n",
       "      <td>14127.198</td>\n",
       "      <td>34601.398</td>\n",
       "      <td>35215.624</td>\n",
       "      <td>18426.780</td>\n",
       "      <td>15650.0</td>\n",
       "      <td>15.6</td>\n",
       "      <td>3505.0</td>\n",
       "      <td>8.5</td>\n",
       "    </tr>\n",
       "    <tr>\n",
       "      <th>36</th>\n",
       "      <td>2020</td>\n",
       "      <td>1073</td>\n",
       "      <td>AL</td>\n",
       "      <td>Jefferson County, AL</td>\n",
       "      <td>655342</td>\n",
       "      <td>227</td>\n",
       "      <td>34.6</td>\n",
       "      <td>139.0</td>\n",
       "      <td>58053.0</td>\n",
       "      <td>673341.0</td>\n",
       "      <td>58980.780</td>\n",
       "      <td>173010.288</td>\n",
       "      <td>195947.258</td>\n",
       "      <td>227403.674</td>\n",
       "      <td>92310.0</td>\n",
       "      <td>14.4</td>\n",
       "      <td>21947.0</td>\n",
       "      <td>6.9</td>\n",
       "    </tr>\n",
       "    <tr>\n",
       "      <th>44</th>\n",
       "      <td>2020</td>\n",
       "      <td>1089</td>\n",
       "      <td>AL</td>\n",
       "      <td>Madison County, AL</td>\n",
       "      <td>379453</td>\n",
       "      <td>68</td>\n",
       "      <td>17.9</td>\n",
       "      <td>87.3</td>\n",
       "      <td>56499.0</td>\n",
       "      <td>389696.0</td>\n",
       "      <td>30356.240</td>\n",
       "      <td>72854.976</td>\n",
       "      <td>108144.105</td>\n",
       "      <td>168097.679</td>\n",
       "      <td>39100.0</td>\n",
       "      <td>10.5</td>\n",
       "      <td>9761.0</td>\n",
       "      <td>5.1</td>\n",
       "    </tr>\n",
       "    <tr>\n",
       "      <th>48</th>\n",
       "      <td>2020</td>\n",
       "      <td>1097</td>\n",
       "      <td>AL</td>\n",
       "      <td>Mobile County, AL</td>\n",
       "      <td>412716</td>\n",
       "      <td>46</td>\n",
       "      <td>11.1</td>\n",
       "      <td>98.0</td>\n",
       "      <td>42837.0</td>\n",
       "      <td>414250.0</td>\n",
       "      <td>49938.636</td>\n",
       "      <td>141148.872</td>\n",
       "      <td>122576.652</td>\n",
       "      <td>98639.124</td>\n",
       "      <td>71398.0</td>\n",
       "      <td>17.6</td>\n",
       "      <td>16931.0</td>\n",
       "      <td>8.7</td>\n",
       "    </tr>\n",
       "  </tbody>\n",
       "</table>\n",
       "</div>"
      ],
      "text/plain": [
       "    Year  countycode State                county  population deaths  \\\n",
       "1   2020        1003    AL    Baldwin County, AL      229287     41   \n",
       "27  2020        1055    AL     Etowah County, AL      102371     13   \n",
       "36  2020        1073    AL  Jefferson County, AL      655342    227   \n",
       "44  2020        1089    AL    Madison County, AL      379453     68   \n",
       "48  2020        1097    AL     Mobile County, AL      412716     46   \n",
       "\n",
       "    cruderate  DispenseRate  PersonalIncome  PerCapitaPersonalIncome  \\\n",
       "1        17.9          65.0         51348.0                 233140.0   \n",
       "27       12.7         102.8         39795.0                 103393.0   \n",
       "36       34.6         139.0         58053.0                 673341.0   \n",
       "44       17.9          87.3         56499.0                 389696.0   \n",
       "48       11.1          98.0         42837.0                 414250.0   \n",
       "\n",
       "    LessThanHS  HSDiplomaOnly  SomeCollege  BachelorOrHigher  PovertyPop  \\\n",
       "1    20635.830      62824.638    71537.544         74518.275     20189.0   \n",
       "27   14127.198      34601.398    35215.624         18426.780     15650.0   \n",
       "36   58980.780     173010.288   195947.258        227403.674     92310.0   \n",
       "44   30356.240      72854.976   108144.105        168097.679     39100.0   \n",
       "48   49938.636     141148.872   122576.652         98639.124     71398.0   \n",
       "\n",
       "    PovertyRate  UnemployedPop  UnemployedRate  \n",
       "1           8.9         6159.0             6.2  \n",
       "27         15.6         3505.0             8.5  \n",
       "36         14.4        21947.0             6.9  \n",
       "44         10.5         9761.0             5.1  \n",
       "48         17.6        16931.0             8.7  "
      ]
     },
     "execution_count": 8,
     "metadata": {},
     "output_type": "execute_result"
    }
   ],
   "source": [
    "cleaned_test_df = test_df.astype({\"cruderate\":\"float64\"}, copy=True)\n",
    "#cleaned_test_df[\"PovertyPop\"] = cleaned_test_df[\"PovertyPop\"].str.replace(\",\",\"\")\n",
    "#cleaned_test_df[\"UnemployedPop\"] = cleaned_test_df[\"UnemployedPop\"].str.replace(\",\",\"\")\n",
    "#cleaned_test_df = cleaned_test_df.astype({\"PovertyPop\":\"float64\",\"UnemployedPop\":\"float64\"})\n",
    "cleaned_test_df[\"LessThanHS\"] = cleaned_test_df[\"LessThanHS\"]/100\n",
    "cleaned_test_df[\"HSDiplomaOnly\"] = cleaned_test_df[\"HSDiplomaOnly\"]/100\n",
    "cleaned_test_df[\"SomeCollege\"] = cleaned_test_df[\"SomeCollege\"]/100\n",
    "cleaned_test_df[\"BachelorOrHigher\"] = cleaned_test_df[\"BachelorOrHigher\"]/100\n",
    "cleaned_test_df.head()"
   ]
  },
  {
   "cell_type": "code",
   "execution_count": 9,
   "id": "9ea888bd",
   "metadata": {},
   "outputs": [
    {
     "name": "stdout",
     "output_type": "stream",
     "text": [
      "36.6\n"
     ]
    }
   ],
   "source": [
    "data2020 =  cleaned_test_df.loc[(test_df[\"Year\"]==2020),\"cruderate\"]\n",
    "quartile75_2020 = np.percentile(data2020, 75)\n",
    "print(quartile75_2020)"
   ]
  },
  {
   "cell_type": "code",
   "execution_count": 10,
   "id": "2698dfce",
   "metadata": {},
   "outputs": [
    {
     "name": "stdout",
     "output_type": "stream",
     "text": [
      "27.3\n"
     ]
    }
   ],
   "source": [
    "data2019 =  cleaned_test_df.loc[(test_df[\"Year\"]==2019),\"cruderate\"]\n",
    "quartile75_2019 = np.percentile(data2019, 75)\n",
    "print(quartile75_2019)"
   ]
  },
  {
   "cell_type": "code",
   "execution_count": 11,
   "id": "b3f8fd47",
   "metadata": {},
   "outputs": [
    {
     "name": "stdout",
     "output_type": "stream",
     "text": [
      "28.299999999999997\n"
     ]
    }
   ],
   "source": [
    "data2018 =  cleaned_test_df.loc[(test_df[\"Year\"]==2018),\"cruderate\"]\n",
    "quartile75_2018 = np.percentile(data2018, 75)\n",
    "print(quartile75_2018)"
   ]
  },
  {
   "cell_type": "code",
   "execution_count": 12,
   "id": "28c676e8",
   "metadata": {},
   "outputs": [
    {
     "name": "stdout",
     "output_type": "stream",
     "text": [
      "29.4\n"
     ]
    }
   ],
   "source": [
    "data2017 =  cleaned_test_df.loc[(test_df[\"Year\"]==2017),\"cruderate\"]\n",
    "quartile75_2017 = np.percentile(data2017, 75)\n",
    "print(quartile75_2017)"
   ]
  },
  {
   "cell_type": "code",
   "execution_count": 13,
   "id": "4abb870b",
   "metadata": {},
   "outputs": [
    {
     "data": {
      "text/plain": [
       "numpy.float64"
      ]
     },
     "execution_count": 13,
     "metadata": {},
     "output_type": "execute_result"
    }
   ],
   "source": [
    "type(quartile75_2017)"
   ]
  },
  {
   "cell_type": "code",
   "execution_count": 14,
   "id": "3488735a",
   "metadata": {},
   "outputs": [
    {
     "name": "stdout",
     "output_type": "stream",
     "text": [
      "[2020 2020 2020 ... 2017 2017 2017]\n"
     ]
    }
   ],
   "source": [
    "print(cleaned_test_df[\"Year\"].values)"
   ]
  },
  {
   "cell_type": "code",
   "execution_count": 15,
   "id": "e099c69c",
   "metadata": {},
   "outputs": [],
   "source": [
    "solution_series = []\n",
    "year_series = cleaned_test_df[\"Year\"].values\n",
    "test1 = cleaned_test_df[\"cruderate\"].values\n",
    "#print(year_series[0])\n",
    "for i in range(len(year_series)):\n",
    "    if year_series[i]==2017:\n",
    "        if test1[i]>=quartile75_2017:\n",
    "            solution_series.append(1)\n",
    "        else:\n",
    "            solution_series.append(0)\n",
    "    elif year_series[i]==2018:\n",
    "        if test1[i]>=quartile75_2018:\n",
    "            solution_series.append(1)\n",
    "        else:\n",
    "            solution_series.append(0)\n",
    "    elif year_series[i]==2019:\n",
    "        if test1[i]>=quartile75_2019:\n",
    "            solution_series.append(1)\n",
    "        else:\n",
    "            solution_series.append(0)\n",
    "    elif year_series[i]==2020:\n",
    "        if test1[i]>=quartile75_2020:\n",
    "            solution_series.append(1)\n",
    "        else:\n",
    "            solution_series.append(0)\n",
    "\n",
    "#print(solution_series)"
   ]
  },
  {
   "cell_type": "code",
   "execution_count": null,
   "id": "281b38bd",
   "metadata": {},
   "outputs": [],
   "source": []
  },
  {
   "cell_type": "code",
   "execution_count": 16,
   "id": "1a7a5486",
   "metadata": {},
   "outputs": [
    {
     "name": "stdout",
     "output_type": "stream",
     "text": [
      "0    2294\n",
      "1     771\n",
      "Name: Class, dtype: int64\n"
     ]
    }
   ],
   "source": [
    "cleaned_test_df[\"Class\"] = solution_series\n",
    "cleaned_test_df.head()\n",
    "print(cleaned_test_df[\"Class\"].value_counts())"
   ]
  },
  {
   "cell_type": "code",
   "execution_count": 50,
   "id": "33fe66ab",
   "metadata": {},
   "outputs": [
    {
     "data": {
      "text/html": [
       "<div>\n",
       "<style scoped>\n",
       "    .dataframe tbody tr th:only-of-type {\n",
       "        vertical-align: middle;\n",
       "    }\n",
       "\n",
       "    .dataframe tbody tr th {\n",
       "        vertical-align: top;\n",
       "    }\n",
       "\n",
       "    .dataframe thead th {\n",
       "        text-align: right;\n",
       "    }\n",
       "</style>\n",
       "<table border=\"1\" class=\"dataframe\">\n",
       "  <thead>\n",
       "    <tr style=\"text-align: right;\">\n",
       "      <th></th>\n",
       "      <th>population</th>\n",
       "      <th>DispenseRate</th>\n",
       "      <th>PersonalIncome</th>\n",
       "      <th>PerCapitaPersonalIncome</th>\n",
       "      <th>LessThanHS</th>\n",
       "      <th>HSDiplomaOnly</th>\n",
       "      <th>SomeCollege</th>\n",
       "      <th>BachelorOrHigher</th>\n",
       "      <th>PovertyPop</th>\n",
       "      <th>UnemployedPop</th>\n",
       "    </tr>\n",
       "  </thead>\n",
       "  <tbody>\n",
       "    <tr>\n",
       "      <th>1</th>\n",
       "      <td>229287</td>\n",
       "      <td>65.0</td>\n",
       "      <td>51348.0</td>\n",
       "      <td>233140.0</td>\n",
       "      <td>20635.830</td>\n",
       "      <td>62824.638</td>\n",
       "      <td>71537.544</td>\n",
       "      <td>74518.275</td>\n",
       "      <td>20189.0</td>\n",
       "      <td>6159.0</td>\n",
       "    </tr>\n",
       "    <tr>\n",
       "      <th>27</th>\n",
       "      <td>102371</td>\n",
       "      <td>102.8</td>\n",
       "      <td>39795.0</td>\n",
       "      <td>103393.0</td>\n",
       "      <td>14127.198</td>\n",
       "      <td>34601.398</td>\n",
       "      <td>35215.624</td>\n",
       "      <td>18426.780</td>\n",
       "      <td>15650.0</td>\n",
       "      <td>3505.0</td>\n",
       "    </tr>\n",
       "    <tr>\n",
       "      <th>36</th>\n",
       "      <td>655342</td>\n",
       "      <td>139.0</td>\n",
       "      <td>58053.0</td>\n",
       "      <td>673341.0</td>\n",
       "      <td>58980.780</td>\n",
       "      <td>173010.288</td>\n",
       "      <td>195947.258</td>\n",
       "      <td>227403.674</td>\n",
       "      <td>92310.0</td>\n",
       "      <td>21947.0</td>\n",
       "    </tr>\n",
       "    <tr>\n",
       "      <th>44</th>\n",
       "      <td>379453</td>\n",
       "      <td>87.3</td>\n",
       "      <td>56499.0</td>\n",
       "      <td>389696.0</td>\n",
       "      <td>30356.240</td>\n",
       "      <td>72854.976</td>\n",
       "      <td>108144.105</td>\n",
       "      <td>168097.679</td>\n",
       "      <td>39100.0</td>\n",
       "      <td>9761.0</td>\n",
       "    </tr>\n",
       "    <tr>\n",
       "      <th>48</th>\n",
       "      <td>412716</td>\n",
       "      <td>98.0</td>\n",
       "      <td>42837.0</td>\n",
       "      <td>414250.0</td>\n",
       "      <td>49938.636</td>\n",
       "      <td>141148.872</td>\n",
       "      <td>122576.652</td>\n",
       "      <td>98639.124</td>\n",
       "      <td>71398.0</td>\n",
       "      <td>16931.0</td>\n",
       "    </tr>\n",
       "  </tbody>\n",
       "</table>\n",
       "</div>"
      ],
      "text/plain": [
       "    population  DispenseRate  PersonalIncome  PerCapitaPersonalIncome  \\\n",
       "1       229287          65.0         51348.0                 233140.0   \n",
       "27      102371         102.8         39795.0                 103393.0   \n",
       "36      655342         139.0         58053.0                 673341.0   \n",
       "44      379453          87.3         56499.0                 389696.0   \n",
       "48      412716          98.0         42837.0                 414250.0   \n",
       "\n",
       "    LessThanHS  HSDiplomaOnly  SomeCollege  BachelorOrHigher  PovertyPop  \\\n",
       "1    20635.830      62824.638    71537.544         74518.275     20189.0   \n",
       "27   14127.198      34601.398    35215.624         18426.780     15650.0   \n",
       "36   58980.780     173010.288   195947.258        227403.674     92310.0   \n",
       "44   30356.240      72854.976   108144.105        168097.679     39100.0   \n",
       "48   49938.636     141148.872   122576.652         98639.124     71398.0   \n",
       "\n",
       "    UnemployedPop  \n",
       "1          6159.0  \n",
       "27         3505.0  \n",
       "36        21947.0  \n",
       "44         9761.0  \n",
       "48        16931.0  "
      ]
     },
     "execution_count": 50,
     "metadata": {},
     "output_type": "execute_result"
    }
   ],
   "source": [
    "X = cleaned_test_df.copy()\n",
    "X = X.drop([\"State\",\"county\",\"countycode\",\"Year\",\"Class\",\"PovertyRate\",\"UnemployedRate\",\"cruderate\",\"deaths\"],axis=1)\n",
    "X.head()"
   ]
  },
  {
   "cell_type": "code",
   "execution_count": 51,
   "id": "1881a2c8",
   "metadata": {},
   "outputs": [
    {
     "name": "stdout",
     "output_type": "stream",
     "text": [
      "<class 'pandas.core.series.Series'>\n",
      "<class 'numpy.ndarray'>\n"
     ]
    }
   ],
   "source": [
    "y = cleaned_test_df[\"Class\"]\n",
    "test_y = cleaned_test_df[\"Class\"].ravel()\n",
    "print(type(y))\n",
    "print(type(test_y))"
   ]
  },
  {
   "cell_type": "code",
   "execution_count": 52,
   "id": "afe2c5d0",
   "metadata": {},
   "outputs": [],
   "source": [
    "X_train, X_test,y_train, y_test = train_test_split(X,y,random_state = 94)"
   ]
  },
  {
   "cell_type": "code",
   "execution_count": 53,
   "id": "fd88a6d1",
   "metadata": {},
   "outputs": [],
   "source": [
    "scaler = StandardScaler()\n",
    "X_scaler = scaler.fit(X_train)\n",
    "X_train_scaled = X_scaler.transform(X_train)\n",
    "X_test_scaled = X_scaler.transform(X_test)"
   ]
  },
  {
   "cell_type": "code",
   "execution_count": 54,
   "id": "5991fdf9",
   "metadata": {},
   "outputs": [],
   "source": [
    "rf_model = RandomForestClassifier(n_estimators=128, random_state=94) "
   ]
  },
  {
   "cell_type": "code",
   "execution_count": 55,
   "id": "663ee4cb",
   "metadata": {},
   "outputs": [],
   "source": [
    "rf_model = rf_model.fit(X_train_scaled, y_train)"
   ]
  },
  {
   "cell_type": "code",
   "execution_count": 56,
   "id": "ea03ca3e",
   "metadata": {},
   "outputs": [],
   "source": [
    "predictions = rf_model.predict(X_test_scaled)"
   ]
  },
  {
   "cell_type": "code",
   "execution_count": 57,
   "id": "1ed34da9",
   "metadata": {},
   "outputs": [
    {
     "data": {
      "text/html": [
       "<div>\n",
       "<style scoped>\n",
       "    .dataframe tbody tr th:only-of-type {\n",
       "        vertical-align: middle;\n",
       "    }\n",
       "\n",
       "    .dataframe tbody tr th {\n",
       "        vertical-align: top;\n",
       "    }\n",
       "\n",
       "    .dataframe thead th {\n",
       "        text-align: right;\n",
       "    }\n",
       "</style>\n",
       "<table border=\"1\" class=\"dataframe\">\n",
       "  <thead>\n",
       "    <tr style=\"text-align: right;\">\n",
       "      <th></th>\n",
       "      <th>Predicted 0</th>\n",
       "      <th>Predicted 1</th>\n",
       "    </tr>\n",
       "  </thead>\n",
       "  <tbody>\n",
       "    <tr>\n",
       "      <th>Actual 0</th>\n",
       "      <td>579</td>\n",
       "      <td>17</td>\n",
       "    </tr>\n",
       "    <tr>\n",
       "      <th>Actual 1</th>\n",
       "      <td>69</td>\n",
       "      <td>102</td>\n",
       "    </tr>\n",
       "  </tbody>\n",
       "</table>\n",
       "</div>"
      ],
      "text/plain": [
       "          Predicted 0  Predicted 1\n",
       "Actual 0          579           17\n",
       "Actual 1           69          102"
      ]
     },
     "execution_count": 57,
     "metadata": {},
     "output_type": "execute_result"
    }
   ],
   "source": [
    "cm = confusion_matrix(y_test, predictions)\n",
    "cm_df = pd.DataFrame(\n",
    "    cm, index=[\"Actual 0\", \"Actual 1\"], columns=[\"Predicted 0\", \"Predicted 1\"])\n",
    "\n",
    "cm_df"
   ]
  },
  {
   "cell_type": "code",
   "execution_count": 58,
   "id": "f7624e14",
   "metadata": {},
   "outputs": [],
   "source": [
    "acc_score = accuracy_score(y_test, predictions)"
   ]
  },
  {
   "cell_type": "code",
   "execution_count": 59,
   "id": "477823f1",
   "metadata": {},
   "outputs": [
    {
     "name": "stdout",
     "output_type": "stream",
     "text": [
      "Confusion Matrix\n"
     ]
    },
    {
     "data": {
      "text/html": [
       "<div>\n",
       "<style scoped>\n",
       "    .dataframe tbody tr th:only-of-type {\n",
       "        vertical-align: middle;\n",
       "    }\n",
       "\n",
       "    .dataframe tbody tr th {\n",
       "        vertical-align: top;\n",
       "    }\n",
       "\n",
       "    .dataframe thead th {\n",
       "        text-align: right;\n",
       "    }\n",
       "</style>\n",
       "<table border=\"1\" class=\"dataframe\">\n",
       "  <thead>\n",
       "    <tr style=\"text-align: right;\">\n",
       "      <th></th>\n",
       "      <th>Predicted 0</th>\n",
       "      <th>Predicted 1</th>\n",
       "    </tr>\n",
       "  </thead>\n",
       "  <tbody>\n",
       "    <tr>\n",
       "      <th>Actual 0</th>\n",
       "      <td>579</td>\n",
       "      <td>17</td>\n",
       "    </tr>\n",
       "    <tr>\n",
       "      <th>Actual 1</th>\n",
       "      <td>69</td>\n",
       "      <td>102</td>\n",
       "    </tr>\n",
       "  </tbody>\n",
       "</table>\n",
       "</div>"
      ],
      "text/plain": [
       "          Predicted 0  Predicted 1\n",
       "Actual 0          579           17\n",
       "Actual 1           69          102"
      ]
     },
     "metadata": {},
     "output_type": "display_data"
    },
    {
     "name": "stdout",
     "output_type": "stream",
     "text": [
      "Accuracy Score : 0.8878748370273793\n",
      "Classification Report\n",
      "              precision    recall  f1-score   support\n",
      "\n",
      "           0       0.89      0.97      0.93       596\n",
      "           1       0.86      0.60      0.70       171\n",
      "\n",
      "    accuracy                           0.89       767\n",
      "   macro avg       0.88      0.78      0.82       767\n",
      "weighted avg       0.89      0.89      0.88       767\n",
      "\n"
     ]
    }
   ],
   "source": [
    "# Displaying results\n",
    "print(\"Confusion Matrix\")\n",
    "display(cm_df)\n",
    "print(f\"Accuracy Score : {acc_score}\")\n",
    "print(\"Classification Report\")\n",
    "print(classification_report(y_test, predictions))"
   ]
  },
  {
   "cell_type": "code",
   "execution_count": 60,
   "id": "643ae912",
   "metadata": {},
   "outputs": [
    {
     "data": {
      "text/plain": [
       "array([0.15896594, 0.08270636, 0.07887408, 0.13239609, 0.07690283,\n",
       "       0.09285297, 0.08790893, 0.08642849, 0.08638042, 0.1165839 ])"
      ]
     },
     "execution_count": 60,
     "metadata": {},
     "output_type": "execute_result"
    }
   ],
   "source": [
    "# Calculate feature importance in the Random Forest model.\n",
    "importances = rf_model.feature_importances_\n",
    "importances"
   ]
  },
  {
   "cell_type": "code",
   "execution_count": 61,
   "id": "9a602dd7",
   "metadata": {},
   "outputs": [],
   "source": [
    "#I just want to try out SMOTEENN\n",
    "from imblearn.combine import SMOTEENN\n",
    "smote_enn = SMOTEENN(random_state=0)\n",
    "X_resampled, y_resampled = smote_enn.fit_resample(X_train, y_train)"
   ]
  },
  {
   "cell_type": "code",
   "execution_count": 62,
   "id": "38eaa5cd",
   "metadata": {},
   "outputs": [],
   "source": [
    "scaler2 = StandardScaler()\n",
    "X_scaler2 = scaler2.fit(X_resampled)\n",
    "X_train2_scaled = X_scaler2.transform(X_resampled)\n",
    "X_test2_scaled = X_scaler2.transform(X_test)"
   ]
  },
  {
   "cell_type": "code",
   "execution_count": 63,
   "id": "afbb4895",
   "metadata": {},
   "outputs": [],
   "source": [
    "rf_model2 = RandomForestClassifier(n_estimators=128, random_state=94) "
   ]
  },
  {
   "cell_type": "code",
   "execution_count": 64,
   "id": "733a2b41",
   "metadata": {},
   "outputs": [],
   "source": [
    "rf_model2 = rf_model2.fit(X_train2_scaled, y_resampled)"
   ]
  },
  {
   "cell_type": "code",
   "execution_count": 65,
   "id": "82caf29b",
   "metadata": {},
   "outputs": [],
   "source": [
    "predictions2 = rf_model2.predict(X_test_scaled)"
   ]
  },
  {
   "cell_type": "code",
   "execution_count": 66,
   "id": "95db0a54",
   "metadata": {},
   "outputs": [
    {
     "data": {
      "text/html": [
       "<div>\n",
       "<style scoped>\n",
       "    .dataframe tbody tr th:only-of-type {\n",
       "        vertical-align: middle;\n",
       "    }\n",
       "\n",
       "    .dataframe tbody tr th {\n",
       "        vertical-align: top;\n",
       "    }\n",
       "\n",
       "    .dataframe thead th {\n",
       "        text-align: right;\n",
       "    }\n",
       "</style>\n",
       "<table border=\"1\" class=\"dataframe\">\n",
       "  <thead>\n",
       "    <tr style=\"text-align: right;\">\n",
       "      <th></th>\n",
       "      <th>Predicted 0</th>\n",
       "      <th>Predicted 1</th>\n",
       "    </tr>\n",
       "  </thead>\n",
       "  <tbody>\n",
       "    <tr>\n",
       "      <th>Actual 0</th>\n",
       "      <td>460</td>\n",
       "      <td>136</td>\n",
       "    </tr>\n",
       "    <tr>\n",
       "      <th>Actual 1</th>\n",
       "      <td>57</td>\n",
       "      <td>114</td>\n",
       "    </tr>\n",
       "  </tbody>\n",
       "</table>\n",
       "</div>"
      ],
      "text/plain": [
       "          Predicted 0  Predicted 1\n",
       "Actual 0          460          136\n",
       "Actual 1           57          114"
      ]
     },
     "execution_count": 66,
     "metadata": {},
     "output_type": "execute_result"
    }
   ],
   "source": [
    "cm2 = confusion_matrix(y_test, predictions2)\n",
    "cm2_df = pd.DataFrame(\n",
    "    cm2, index=[\"Actual 0\", \"Actual 1\"], columns=[\"Predicted 0\", \"Predicted 1\"])\n",
    "\n",
    "cm2_df"
   ]
  },
  {
   "cell_type": "code",
   "execution_count": 67,
   "id": "e11a9171",
   "metadata": {},
   "outputs": [],
   "source": [
    "acc_score2 = accuracy_score(y_test, predictions2)"
   ]
  },
  {
   "cell_type": "code",
   "execution_count": 68,
   "id": "bfe799ea",
   "metadata": {},
   "outputs": [
    {
     "name": "stdout",
     "output_type": "stream",
     "text": [
      "Confusion Matrix\n"
     ]
    },
    {
     "data": {
      "text/html": [
       "<div>\n",
       "<style scoped>\n",
       "    .dataframe tbody tr th:only-of-type {\n",
       "        vertical-align: middle;\n",
       "    }\n",
       "\n",
       "    .dataframe tbody tr th {\n",
       "        vertical-align: top;\n",
       "    }\n",
       "\n",
       "    .dataframe thead th {\n",
       "        text-align: right;\n",
       "    }\n",
       "</style>\n",
       "<table border=\"1\" class=\"dataframe\">\n",
       "  <thead>\n",
       "    <tr style=\"text-align: right;\">\n",
       "      <th></th>\n",
       "      <th>Predicted 0</th>\n",
       "      <th>Predicted 1</th>\n",
       "    </tr>\n",
       "  </thead>\n",
       "  <tbody>\n",
       "    <tr>\n",
       "      <th>Actual 0</th>\n",
       "      <td>460</td>\n",
       "      <td>136</td>\n",
       "    </tr>\n",
       "    <tr>\n",
       "      <th>Actual 1</th>\n",
       "      <td>57</td>\n",
       "      <td>114</td>\n",
       "    </tr>\n",
       "  </tbody>\n",
       "</table>\n",
       "</div>"
      ],
      "text/plain": [
       "          Predicted 0  Predicted 1\n",
       "Actual 0          460          136\n",
       "Actual 1           57          114"
      ]
     },
     "metadata": {},
     "output_type": "display_data"
    },
    {
     "name": "stdout",
     "output_type": "stream",
     "text": [
      "Accuracy Score : 0.7483702737940026\n",
      "Classification Report\n",
      "              precision    recall  f1-score   support\n",
      "\n",
      "           0       0.89      0.77      0.83       596\n",
      "           1       0.46      0.67      0.54       171\n",
      "\n",
      "    accuracy                           0.75       767\n",
      "   macro avg       0.67      0.72      0.68       767\n",
      "weighted avg       0.79      0.75      0.76       767\n",
      "\n"
     ]
    }
   ],
   "source": [
    "# Displaying results\n",
    "print(\"Confusion Matrix\")\n",
    "display(cm2_df)\n",
    "print(f\"Accuracy Score : {acc_score2}\")\n",
    "print(\"Classification Report\")\n",
    "print(classification_report(y_test, predictions2))"
   ]
  },
  {
   "cell_type": "code",
   "execution_count": 69,
   "id": "169423c4",
   "metadata": {},
   "outputs": [
    {
     "data": {
      "text/plain": [
       "array([0.2002794 , 0.07516354, 0.07264491, 0.1571447 , 0.07094668,\n",
       "       0.09233952, 0.07237844, 0.06937944, 0.08729178, 0.10243159])"
      ]
     },
     "execution_count": 69,
     "metadata": {},
     "output_type": "execute_result"
    }
   ],
   "source": [
    "# Calculate feature importance in the Random Forest model.\n",
    "importances2 = rf_model2.feature_importances_\n",
    "importances2"
   ]
  },
  {
   "cell_type": "code",
   "execution_count": null,
   "id": "a068b257",
   "metadata": {},
   "outputs": [],
   "source": []
  }
 ],
 "metadata": {
  "kernelspec": {
   "display_name": "mlenv",
   "language": "python",
   "name": "mlenv"
  },
  "language_info": {
   "codemirror_mode": {
    "name": "ipython",
    "version": 3
   },
   "file_extension": ".py",
   "mimetype": "text/x-python",
   "name": "python",
   "nbconvert_exporter": "python",
   "pygments_lexer": "ipython3",
   "version": "3.7.13"
  }
 },
 "nbformat": 4,
 "nbformat_minor": 5
}
