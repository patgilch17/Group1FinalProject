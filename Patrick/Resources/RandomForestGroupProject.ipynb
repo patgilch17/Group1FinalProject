{
 "cells": [
  {
   "cell_type": "code",
   "execution_count": 1,
   "id": "d11a280a",
   "metadata": {},
   "outputs": [],
   "source": [
    "#Import Depdencies\n",
    "import pandas as pd\n",
    "from sklearn.ensemble import RandomForestClassifier\n",
    "from sklearn.preprocessing import StandardScaler\n",
    "from sklearn.model_selection import train_test_split\n",
    "from sklearn.metrics import confusion_matrix, accuracy_score, classification_report\n",
    "import numpy as np"
   ]
  },
  {
   "cell_type": "code",
   "execution_count": 39,
   "id": "ab1b6c5a",
   "metadata": {},
   "outputs": [
    {
     "data": {
      "text/html": [
       "<div>\n",
       "<style scoped>\n",
       "    .dataframe tbody tr th:only-of-type {\n",
       "        vertical-align: middle;\n",
       "    }\n",
       "\n",
       "    .dataframe tbody tr th {\n",
       "        vertical-align: top;\n",
       "    }\n",
       "\n",
       "    .dataframe thead th {\n",
       "        text-align: right;\n",
       "    }\n",
       "</style>\n",
       "<table border=\"1\" class=\"dataframe\">\n",
       "  <thead>\n",
       "    <tr style=\"text-align: right;\">\n",
       "      <th></th>\n",
       "      <th>Year</th>\n",
       "      <th>countycode</th>\n",
       "      <th>State</th>\n",
       "      <th>county</th>\n",
       "      <th>population</th>\n",
       "      <th>deaths</th>\n",
       "      <th>cruderate</th>\n",
       "      <th>DispenseRate</th>\n",
       "      <th>PersonalIncome</th>\n",
       "      <th>PerCapitaPersonalIncome</th>\n",
       "      <th>LessThanHS</th>\n",
       "      <th>HSDiplomaOnly</th>\n",
       "      <th>SomeCollege</th>\n",
       "      <th>BachelorOrHigher</th>\n",
       "      <th>PovertyPop</th>\n",
       "      <th>PovertyRate</th>\n",
       "      <th>UnemployedPop</th>\n",
       "      <th>UnemployedRate</th>\n",
       "    </tr>\n",
       "  </thead>\n",
       "  <tbody>\n",
       "    <tr>\n",
       "      <th>0</th>\n",
       "      <td>2020</td>\n",
       "      <td>1001</td>\n",
       "      <td>AL</td>\n",
       "      <td>Autauga County, AL</td>\n",
       "      <td>56145</td>\n",
       "      <td>Suppressed</td>\n",
       "      <td>Suppressed</td>\n",
       "      <td>98.3</td>\n",
       "      <td>45248.0</td>\n",
       "      <td>58877.0</td>\n",
       "      <td>5839.08</td>\n",
       "      <td>18415.56</td>\n",
       "      <td>16113.62</td>\n",
       "      <td>15776.75</td>\n",
       "      <td>6242.0</td>\n",
       "      <td>11.2</td>\n",
       "      <td>1420.0</td>\n",
       "      <td>5.4</td>\n",
       "    </tr>\n",
       "    <tr>\n",
       "      <th>1</th>\n",
       "      <td>2020</td>\n",
       "      <td>1003</td>\n",
       "      <td>AL</td>\n",
       "      <td>Baldwin County, AL</td>\n",
       "      <td>229287</td>\n",
       "      <td>41</td>\n",
       "      <td>17.90</td>\n",
       "      <td>65.0</td>\n",
       "      <td>51348.0</td>\n",
       "      <td>233140.0</td>\n",
       "      <td>20635.83</td>\n",
       "      <td>62824.64</td>\n",
       "      <td>71537.54</td>\n",
       "      <td>74518.28</td>\n",
       "      <td>20189.0</td>\n",
       "      <td>8.9</td>\n",
       "      <td>6159.0</td>\n",
       "      <td>6.2</td>\n",
       "    </tr>\n",
       "    <tr>\n",
       "      <th>2</th>\n",
       "      <td>2020</td>\n",
       "      <td>1005</td>\n",
       "      <td>AL</td>\n",
       "      <td>Barbour County, AL</td>\n",
       "      <td>24589</td>\n",
       "      <td>Suppressed</td>\n",
       "      <td>Suppressed</td>\n",
       "      <td>22.8</td>\n",
       "      <td>37120.0</td>\n",
       "      <td>25180.0</td>\n",
       "      <td>5975.13</td>\n",
       "      <td>9024.16</td>\n",
       "      <td>6835.74</td>\n",
       "      <td>2753.97</td>\n",
       "      <td>5548.0</td>\n",
       "      <td>25.5</td>\n",
       "      <td>676.0</td>\n",
       "      <td>7.8</td>\n",
       "    </tr>\n",
       "    <tr>\n",
       "      <th>3</th>\n",
       "      <td>2020</td>\n",
       "      <td>1007</td>\n",
       "      <td>AL</td>\n",
       "      <td>Bibb County, AL</td>\n",
       "      <td>22136</td>\n",
       "      <td>Suppressed</td>\n",
       "      <td>Suppressed</td>\n",
       "      <td>24.8</td>\n",
       "      <td>34598.0</td>\n",
       "      <td>22223.0</td>\n",
       "      <td>4316.52</td>\n",
       "      <td>9717.70</td>\n",
       "      <td>5467.59</td>\n",
       "      <td>2634.18</td>\n",
       "      <td>3549.0</td>\n",
       "      <td>17.8</td>\n",
       "      <td>639.0</td>\n",
       "      <td>7.3</td>\n",
       "    </tr>\n",
       "    <tr>\n",
       "      <th>4</th>\n",
       "      <td>2020</td>\n",
       "      <td>1009</td>\n",
       "      <td>AL</td>\n",
       "      <td>Blount County, AL</td>\n",
       "      <td>57879</td>\n",
       "      <td>Suppressed</td>\n",
       "      <td>Suppressed</td>\n",
       "      <td>22.8</td>\n",
       "      <td>38351.0</td>\n",
       "      <td>59081.0</td>\n",
       "      <td>9492.16</td>\n",
       "      <td>20315.53</td>\n",
       "      <td>19447.34</td>\n",
       "      <td>8623.97</td>\n",
       "      <td>7525.0</td>\n",
       "      <td>13.1</td>\n",
       "      <td>1143.0</td>\n",
       "      <td>4.6</td>\n",
       "    </tr>\n",
       "  </tbody>\n",
       "</table>\n",
       "</div>"
      ],
      "text/plain": [
       "   Year  countycode State              county  population      deaths  \\\n",
       "0  2020        1001    AL  Autauga County, AL       56145  Suppressed   \n",
       "1  2020        1003    AL  Baldwin County, AL      229287          41   \n",
       "2  2020        1005    AL  Barbour County, AL       24589  Suppressed   \n",
       "3  2020        1007    AL     Bibb County, AL       22136  Suppressed   \n",
       "4  2020        1009    AL   Blount County, AL       57879  Suppressed   \n",
       "\n",
       "    cruderate  DispenseRate  PersonalIncome  PerCapitaPersonalIncome  \\\n",
       "0  Suppressed          98.3         45248.0                  58877.0   \n",
       "1       17.90          65.0         51348.0                 233140.0   \n",
       "2  Suppressed          22.8         37120.0                  25180.0   \n",
       "3  Suppressed          24.8         34598.0                  22223.0   \n",
       "4  Suppressed          22.8         38351.0                  59081.0   \n",
       "\n",
       "   LessThanHS  HSDiplomaOnly  SomeCollege  BachelorOrHigher  PovertyPop  \\\n",
       "0     5839.08       18415.56     16113.62          15776.75      6242.0   \n",
       "1    20635.83       62824.64     71537.54          74518.28     20189.0   \n",
       "2     5975.13        9024.16      6835.74           2753.97      5548.0   \n",
       "3     4316.52        9717.70      5467.59           2634.18      3549.0   \n",
       "4     9492.16       20315.53     19447.34           8623.97      7525.0   \n",
       "\n",
       "   PovertyRate  UnemployedPop  UnemployedRate  \n",
       "0         11.2         1420.0             5.4  \n",
       "1          8.9         6159.0             6.2  \n",
       "2         25.5          676.0             7.8  \n",
       "3         17.8          639.0             7.3  \n",
       "4         13.1         1143.0             4.6  "
      ]
     },
     "execution_count": 39,
     "metadata": {},
     "output_type": "execute_result"
    }
   ],
   "source": [
    "#file_path = \"testingdata.csv\"\n",
    "file_path = \"FINAL_opioid_data_UNCLEAN2.csv\"\n",
    "raw_input_df = pd.read_csv(file_path)\n",
    "raw_input_df.head()"
   ]
  },
  {
   "cell_type": "code",
   "execution_count": 40,
   "id": "46ffd8ae",
   "metadata": {},
   "outputs": [
    {
     "data": {
      "text/plain": [
       "Year                         int64\n",
       "countycode                   int64\n",
       "State                       object\n",
       "county                      object\n",
       "population                   int64\n",
       "deaths                      object\n",
       "cruderate                   object\n",
       "DispenseRate               float64\n",
       "PersonalIncome             float64\n",
       "PerCapitaPersonalIncome    float64\n",
       "LessThanHS                 float64\n",
       "HSDiplomaOnly              float64\n",
       "SomeCollege                float64\n",
       "BachelorOrHigher           float64\n",
       "PovertyPop                 float64\n",
       "PovertyRate                float64\n",
       "UnemployedPop              float64\n",
       "UnemployedRate             float64\n",
       "dtype: object"
      ]
     },
     "execution_count": 40,
     "metadata": {},
     "output_type": "execute_result"
    }
   ],
   "source": [
    "raw_input_df.dtypes"
   ]
  },
  {
   "cell_type": "code",
   "execution_count": 41,
   "id": "ac6d23c5",
   "metadata": {},
   "outputs": [
    {
     "data": {
      "text/html": [
       "<div>\n",
       "<style scoped>\n",
       "    .dataframe tbody tr th:only-of-type {\n",
       "        vertical-align: middle;\n",
       "    }\n",
       "\n",
       "    .dataframe tbody tr th {\n",
       "        vertical-align: top;\n",
       "    }\n",
       "\n",
       "    .dataframe thead th {\n",
       "        text-align: right;\n",
       "    }\n",
       "</style>\n",
       "<table border=\"1\" class=\"dataframe\">\n",
       "  <thead>\n",
       "    <tr style=\"text-align: right;\">\n",
       "      <th></th>\n",
       "      <th>Year</th>\n",
       "      <th>countycode</th>\n",
       "      <th>State</th>\n",
       "      <th>county</th>\n",
       "      <th>population</th>\n",
       "      <th>deaths</th>\n",
       "      <th>cruderate</th>\n",
       "      <th>DispenseRate</th>\n",
       "      <th>PersonalIncome</th>\n",
       "      <th>PerCapitaPersonalIncome</th>\n",
       "      <th>LessThanHS</th>\n",
       "      <th>HSDiplomaOnly</th>\n",
       "      <th>SomeCollege</th>\n",
       "      <th>BachelorOrHigher</th>\n",
       "      <th>PovertyPop</th>\n",
       "      <th>PovertyRate</th>\n",
       "      <th>UnemployedPop</th>\n",
       "      <th>UnemployedRate</th>\n",
       "    </tr>\n",
       "  </thead>\n",
       "  <tbody>\n",
       "    <tr>\n",
       "      <th>1</th>\n",
       "      <td>2020</td>\n",
       "      <td>1003</td>\n",
       "      <td>AL</td>\n",
       "      <td>Baldwin County, AL</td>\n",
       "      <td>229287</td>\n",
       "      <td>41</td>\n",
       "      <td>17.90</td>\n",
       "      <td>65.0</td>\n",
       "      <td>51348.0</td>\n",
       "      <td>233140.0</td>\n",
       "      <td>20635.83</td>\n",
       "      <td>62824.64</td>\n",
       "      <td>71537.54</td>\n",
       "      <td>74518.28</td>\n",
       "      <td>20189.0</td>\n",
       "      <td>8.9</td>\n",
       "      <td>6159.0</td>\n",
       "      <td>6.2</td>\n",
       "    </tr>\n",
       "    <tr>\n",
       "      <th>27</th>\n",
       "      <td>2020</td>\n",
       "      <td>1055</td>\n",
       "      <td>AL</td>\n",
       "      <td>Etowah County, AL</td>\n",
       "      <td>102371</td>\n",
       "      <td>13</td>\n",
       "      <td>12.70</td>\n",
       "      <td>102.8</td>\n",
       "      <td>39795.0</td>\n",
       "      <td>103393.0</td>\n",
       "      <td>14127.20</td>\n",
       "      <td>34601.40</td>\n",
       "      <td>35215.62</td>\n",
       "      <td>18426.78</td>\n",
       "      <td>15650.0</td>\n",
       "      <td>15.6</td>\n",
       "      <td>3505.0</td>\n",
       "      <td>8.5</td>\n",
       "    </tr>\n",
       "    <tr>\n",
       "      <th>36</th>\n",
       "      <td>2020</td>\n",
       "      <td>1073</td>\n",
       "      <td>AL</td>\n",
       "      <td>Jefferson County, AL</td>\n",
       "      <td>655342</td>\n",
       "      <td>227</td>\n",
       "      <td>34.60</td>\n",
       "      <td>139.0</td>\n",
       "      <td>58053.0</td>\n",
       "      <td>673341.0</td>\n",
       "      <td>58980.78</td>\n",
       "      <td>173010.29</td>\n",
       "      <td>195947.26</td>\n",
       "      <td>227403.67</td>\n",
       "      <td>92310.0</td>\n",
       "      <td>14.4</td>\n",
       "      <td>21947.0</td>\n",
       "      <td>6.9</td>\n",
       "    </tr>\n",
       "    <tr>\n",
       "      <th>44</th>\n",
       "      <td>2020</td>\n",
       "      <td>1089</td>\n",
       "      <td>AL</td>\n",
       "      <td>Madison County, AL</td>\n",
       "      <td>379453</td>\n",
       "      <td>68</td>\n",
       "      <td>17.90</td>\n",
       "      <td>87.3</td>\n",
       "      <td>56499.0</td>\n",
       "      <td>389696.0</td>\n",
       "      <td>30356.24</td>\n",
       "      <td>72854.98</td>\n",
       "      <td>108144.11</td>\n",
       "      <td>168097.68</td>\n",
       "      <td>39100.0</td>\n",
       "      <td>10.5</td>\n",
       "      <td>9761.0</td>\n",
       "      <td>5.1</td>\n",
       "    </tr>\n",
       "    <tr>\n",
       "      <th>48</th>\n",
       "      <td>2020</td>\n",
       "      <td>1097</td>\n",
       "      <td>AL</td>\n",
       "      <td>Mobile County, AL</td>\n",
       "      <td>412716</td>\n",
       "      <td>46</td>\n",
       "      <td>11.10</td>\n",
       "      <td>98.0</td>\n",
       "      <td>42837.0</td>\n",
       "      <td>414250.0</td>\n",
       "      <td>49938.64</td>\n",
       "      <td>141148.87</td>\n",
       "      <td>122576.65</td>\n",
       "      <td>98639.12</td>\n",
       "      <td>71398.0</td>\n",
       "      <td>17.6</td>\n",
       "      <td>16931.0</td>\n",
       "      <td>8.7</td>\n",
       "    </tr>\n",
       "  </tbody>\n",
       "</table>\n",
       "</div>"
      ],
      "text/plain": [
       "    Year  countycode State                county  population deaths cruderate  \\\n",
       "1   2020        1003    AL    Baldwin County, AL      229287     41     17.90   \n",
       "27  2020        1055    AL     Etowah County, AL      102371     13     12.70   \n",
       "36  2020        1073    AL  Jefferson County, AL      655342    227     34.60   \n",
       "44  2020        1089    AL    Madison County, AL      379453     68     17.90   \n",
       "48  2020        1097    AL     Mobile County, AL      412716     46     11.10   \n",
       "\n",
       "    DispenseRate  PersonalIncome  PerCapitaPersonalIncome  LessThanHS  \\\n",
       "1           65.0         51348.0                 233140.0    20635.83   \n",
       "27         102.8         39795.0                 103393.0    14127.20   \n",
       "36         139.0         58053.0                 673341.0    58980.78   \n",
       "44          87.3         56499.0                 389696.0    30356.24   \n",
       "48          98.0         42837.0                 414250.0    49938.64   \n",
       "\n",
       "    HSDiplomaOnly  SomeCollege  BachelorOrHigher  PovertyPop  PovertyRate  \\\n",
       "1        62824.64     71537.54          74518.28     20189.0          8.9   \n",
       "27       34601.40     35215.62          18426.78     15650.0         15.6   \n",
       "36      173010.29    195947.26         227403.67     92310.0         14.4   \n",
       "44       72854.98    108144.11         168097.68     39100.0         10.5   \n",
       "48      141148.87    122576.65          98639.12     71398.0         17.6   \n",
       "\n",
       "    UnemployedPop  UnemployedRate  \n",
       "1          6159.0             6.2  \n",
       "27         3505.0             8.5  \n",
       "36        21947.0             6.9  \n",
       "44         9761.0             5.1  \n",
       "48        16931.0             8.7  "
      ]
     },
     "execution_count": 41,
     "metadata": {},
     "output_type": "execute_result"
    }
   ],
   "source": [
    "input_df = raw_input_df.dropna().copy()\n",
    "input_df = input_df.loc[(input_df[\"deaths\"]!=\"Suppressed\")]\n",
    "input_df.head()"
   ]
  },
  {
   "cell_type": "code",
   "execution_count": 42,
   "id": "7abdd34f",
   "metadata": {},
   "outputs": [
    {
     "name": "stdout",
     "output_type": "stream",
     "text": [
      "3056\n",
      "3056\n"
     ]
    }
   ],
   "source": [
    "print(len(input_df))\n",
    "test_df = input_df.loc[(input_df['cruderate']!='Unreliable')]\n",
    "print(len(test_df))"
   ]
  },
  {
   "cell_type": "code",
   "execution_count": 72,
   "id": "ce44d089",
   "metadata": {},
   "outputs": [
    {
     "data": {
      "text/html": [
       "<div>\n",
       "<style scoped>\n",
       "    .dataframe tbody tr th:only-of-type {\n",
       "        vertical-align: middle;\n",
       "    }\n",
       "\n",
       "    .dataframe tbody tr th {\n",
       "        vertical-align: top;\n",
       "    }\n",
       "\n",
       "    .dataframe thead th {\n",
       "        text-align: right;\n",
       "    }\n",
       "</style>\n",
       "<table border=\"1\" class=\"dataframe\">\n",
       "  <thead>\n",
       "    <tr style=\"text-align: right;\">\n",
       "      <th></th>\n",
       "      <th>Year</th>\n",
       "      <th>countycode</th>\n",
       "      <th>State</th>\n",
       "      <th>county</th>\n",
       "      <th>population</th>\n",
       "      <th>deaths</th>\n",
       "      <th>cruderate</th>\n",
       "      <th>DispenseRate</th>\n",
       "      <th>PersonalIncome</th>\n",
       "      <th>PerCapitaPersonalIncome</th>\n",
       "      <th>LessThanHS</th>\n",
       "      <th>HSDiplomaOnly</th>\n",
       "      <th>SomeCollege</th>\n",
       "      <th>BachelorOrHigher</th>\n",
       "      <th>PovertyPop</th>\n",
       "      <th>PovertyRate</th>\n",
       "      <th>UnemployedPop</th>\n",
       "      <th>UnemployedRate</th>\n",
       "    </tr>\n",
       "  </thead>\n",
       "  <tbody>\n",
       "    <tr>\n",
       "      <th>1</th>\n",
       "      <td>2020</td>\n",
       "      <td>1003</td>\n",
       "      <td>AL</td>\n",
       "      <td>Baldwin County, AL</td>\n",
       "      <td>229287</td>\n",
       "      <td>41</td>\n",
       "      <td>17.9</td>\n",
       "      <td>65.0</td>\n",
       "      <td>51348.0</td>\n",
       "      <td>233140.0</td>\n",
       "      <td>20635.83</td>\n",
       "      <td>62824.64</td>\n",
       "      <td>71537.54</td>\n",
       "      <td>74518.28</td>\n",
       "      <td>20189.0</td>\n",
       "      <td>8.9</td>\n",
       "      <td>6159.0</td>\n",
       "      <td>6.2</td>\n",
       "    </tr>\n",
       "    <tr>\n",
       "      <th>27</th>\n",
       "      <td>2020</td>\n",
       "      <td>1055</td>\n",
       "      <td>AL</td>\n",
       "      <td>Etowah County, AL</td>\n",
       "      <td>102371</td>\n",
       "      <td>13</td>\n",
       "      <td>12.7</td>\n",
       "      <td>102.8</td>\n",
       "      <td>39795.0</td>\n",
       "      <td>103393.0</td>\n",
       "      <td>14127.20</td>\n",
       "      <td>34601.40</td>\n",
       "      <td>35215.62</td>\n",
       "      <td>18426.78</td>\n",
       "      <td>15650.0</td>\n",
       "      <td>15.6</td>\n",
       "      <td>3505.0</td>\n",
       "      <td>8.5</td>\n",
       "    </tr>\n",
       "    <tr>\n",
       "      <th>36</th>\n",
       "      <td>2020</td>\n",
       "      <td>1073</td>\n",
       "      <td>AL</td>\n",
       "      <td>Jefferson County, AL</td>\n",
       "      <td>655342</td>\n",
       "      <td>227</td>\n",
       "      <td>34.6</td>\n",
       "      <td>139.0</td>\n",
       "      <td>58053.0</td>\n",
       "      <td>673341.0</td>\n",
       "      <td>58980.78</td>\n",
       "      <td>173010.29</td>\n",
       "      <td>195947.26</td>\n",
       "      <td>227403.67</td>\n",
       "      <td>92310.0</td>\n",
       "      <td>14.4</td>\n",
       "      <td>21947.0</td>\n",
       "      <td>6.9</td>\n",
       "    </tr>\n",
       "    <tr>\n",
       "      <th>44</th>\n",
       "      <td>2020</td>\n",
       "      <td>1089</td>\n",
       "      <td>AL</td>\n",
       "      <td>Madison County, AL</td>\n",
       "      <td>379453</td>\n",
       "      <td>68</td>\n",
       "      <td>17.9</td>\n",
       "      <td>87.3</td>\n",
       "      <td>56499.0</td>\n",
       "      <td>389696.0</td>\n",
       "      <td>30356.24</td>\n",
       "      <td>72854.98</td>\n",
       "      <td>108144.11</td>\n",
       "      <td>168097.68</td>\n",
       "      <td>39100.0</td>\n",
       "      <td>10.5</td>\n",
       "      <td>9761.0</td>\n",
       "      <td>5.1</td>\n",
       "    </tr>\n",
       "    <tr>\n",
       "      <th>48</th>\n",
       "      <td>2020</td>\n",
       "      <td>1097</td>\n",
       "      <td>AL</td>\n",
       "      <td>Mobile County, AL</td>\n",
       "      <td>412716</td>\n",
       "      <td>46</td>\n",
       "      <td>11.1</td>\n",
       "      <td>98.0</td>\n",
       "      <td>42837.0</td>\n",
       "      <td>414250.0</td>\n",
       "      <td>49938.64</td>\n",
       "      <td>141148.87</td>\n",
       "      <td>122576.65</td>\n",
       "      <td>98639.12</td>\n",
       "      <td>71398.0</td>\n",
       "      <td>17.6</td>\n",
       "      <td>16931.0</td>\n",
       "      <td>8.7</td>\n",
       "    </tr>\n",
       "  </tbody>\n",
       "</table>\n",
       "</div>"
      ],
      "text/plain": [
       "    Year  countycode State                county  population deaths  \\\n",
       "1   2020        1003    AL    Baldwin County, AL      229287     41   \n",
       "27  2020        1055    AL     Etowah County, AL      102371     13   \n",
       "36  2020        1073    AL  Jefferson County, AL      655342    227   \n",
       "44  2020        1089    AL    Madison County, AL      379453     68   \n",
       "48  2020        1097    AL     Mobile County, AL      412716     46   \n",
       "\n",
       "    cruderate  DispenseRate  PersonalIncome  PerCapitaPersonalIncome  \\\n",
       "1        17.9          65.0         51348.0                 233140.0   \n",
       "27       12.7         102.8         39795.0                 103393.0   \n",
       "36       34.6         139.0         58053.0                 673341.0   \n",
       "44       17.9          87.3         56499.0                 389696.0   \n",
       "48       11.1          98.0         42837.0                 414250.0   \n",
       "\n",
       "    LessThanHS  HSDiplomaOnly  SomeCollege  BachelorOrHigher  PovertyPop  \\\n",
       "1     20635.83       62824.64     71537.54          74518.28     20189.0   \n",
       "27    14127.20       34601.40     35215.62          18426.78     15650.0   \n",
       "36    58980.78      173010.29    195947.26         227403.67     92310.0   \n",
       "44    30356.24       72854.98    108144.11         168097.68     39100.0   \n",
       "48    49938.64      141148.87    122576.65          98639.12     71398.0   \n",
       "\n",
       "    PovertyRate  UnemployedPop  UnemployedRate  \n",
       "1           8.9         6159.0             6.2  \n",
       "27         15.6         3505.0             8.5  \n",
       "36         14.4        21947.0             6.9  \n",
       "44         10.5         9761.0             5.1  \n",
       "48         17.6        16931.0             8.7  "
      ]
     },
     "execution_count": 72,
     "metadata": {},
     "output_type": "execute_result"
    }
   ],
   "source": [
    "cleaned_test_df = test_df.astype({\"cruderate\":\"float64\"}, copy=True)\n",
    "#cleaned_test_df[\"PovertyPop\"] = cleaned_test_df[\"PovertyPop\"].str.replace(\",\",\"\")\n",
    "#cleaned_test_df[\"UnemployedPop\"] = cleaned_test_df[\"UnemployedPop\"].str.replace(\",\",\"\")\n",
    "#cleaned_test_df = cleaned_test_df.astype({\"PovertyPop\":\"float64\",\"UnemployedPop\":\"float64\"})\n",
    "cleaned_test_df[\"LessThanHS\"] = cleaned_test_df[\"LessThanHS\"]\n",
    "cleaned_test_df[\"HSDiplomaOnly\"] = cleaned_test_df[\"HSDiplomaOnly\"]\n",
    "cleaned_test_df[\"SomeCollege\"] = cleaned_test_df[\"SomeCollege\"]\n",
    "cleaned_test_df[\"BachelorOrHigher\"] = cleaned_test_df[\"BachelorOrHigher\"]\n",
    "cleaned_test_df.head()"
   ]
  },
  {
   "cell_type": "code",
   "execution_count": 73,
   "id": "9ea888bd",
   "metadata": {},
   "outputs": [
    {
     "name": "stdout",
     "output_type": "stream",
     "text": [
      "36.5\n"
     ]
    }
   ],
   "source": [
    "data2020 =  cleaned_test_df.loc[(test_df[\"Year\"]==2020),\"cruderate\"]\n",
    "quartile75_2020 = np.percentile(data2020, 75)\n",
    "print(quartile75_2020)"
   ]
  },
  {
   "cell_type": "code",
   "execution_count": 74,
   "id": "2698dfce",
   "metadata": {},
   "outputs": [
    {
     "name": "stdout",
     "output_type": "stream",
     "text": [
      "27.317500000000003\n"
     ]
    }
   ],
   "source": [
    "data2019 =  cleaned_test_df.loc[(test_df[\"Year\"]==2019),\"cruderate\"]\n",
    "quartile75_2019 = np.percentile(data2019, 75)\n",
    "print(quartile75_2019)"
   ]
  },
  {
   "cell_type": "code",
   "execution_count": 75,
   "id": "b3f8fd47",
   "metadata": {},
   "outputs": [
    {
     "name": "stdout",
     "output_type": "stream",
     "text": [
      "28.4\n"
     ]
    }
   ],
   "source": [
    "data2018 =  cleaned_test_df.loc[(test_df[\"Year\"]==2018),\"cruderate\"]\n",
    "quartile75_2018 = np.percentile(data2018, 75)\n",
    "print(quartile75_2018)"
   ]
  },
  {
   "cell_type": "code",
   "execution_count": 76,
   "id": "28c676e8",
   "metadata": {},
   "outputs": [
    {
     "name": "stdout",
     "output_type": "stream",
     "text": [
      "29.4\n"
     ]
    }
   ],
   "source": [
    "data2017 =  cleaned_test_df.loc[(test_df[\"Year\"]==2017),\"cruderate\"]\n",
    "quartile75_2017 = np.percentile(data2017, 75)\n",
    "print(quartile75_2017)"
   ]
  },
  {
   "cell_type": "code",
   "execution_count": 77,
   "id": "4abb870b",
   "metadata": {},
   "outputs": [
    {
     "data": {
      "text/plain": [
       "numpy.float64"
      ]
     },
     "execution_count": 77,
     "metadata": {},
     "output_type": "execute_result"
    }
   ],
   "source": [
    "type(quartile75_2017)"
   ]
  },
  {
   "cell_type": "code",
   "execution_count": 78,
   "id": "3488735a",
   "metadata": {},
   "outputs": [
    {
     "name": "stdout",
     "output_type": "stream",
     "text": [
      "[2020 2020 2020 ... 2017 2017 2017]\n"
     ]
    }
   ],
   "source": [
    "print(cleaned_test_df[\"Year\"].values)"
   ]
  },
  {
   "cell_type": "code",
   "execution_count": 79,
   "id": "e099c69c",
   "metadata": {},
   "outputs": [],
   "source": [
    "solution_series = []\n",
    "year_series = cleaned_test_df[\"Year\"].values\n",
    "test1 = cleaned_test_df[\"cruderate\"].values\n",
    "#print(year_series[0])\n",
    "for i in range(len(year_series)):\n",
    "    if year_series[i]==2017:\n",
    "        if test1[i]>=quartile75_2017:\n",
    "            solution_series.append(1)\n",
    "        else:\n",
    "            solution_series.append(0)\n",
    "    elif year_series[i]==2018:\n",
    "        if test1[i]>=quartile75_2018:\n",
    "            solution_series.append(1)\n",
    "        else:\n",
    "            solution_series.append(0)\n",
    "    elif year_series[i]==2019:\n",
    "        if test1[i]>=quartile75_2019:\n",
    "            solution_series.append(1)\n",
    "        else:\n",
    "            solution_series.append(0)\n",
    "    elif year_series[i]==2020:\n",
    "        if test1[i]>=quartile75_2020:\n",
    "            solution_series.append(1)\n",
    "        else:\n",
    "            solution_series.append(0)\n",
    "\n",
    "#print(solution_series)"
   ]
  },
  {
   "cell_type": "code",
   "execution_count": null,
   "id": "281b38bd",
   "metadata": {},
   "outputs": [],
   "source": []
  },
  {
   "cell_type": "code",
   "execution_count": 80,
   "id": "1a7a5486",
   "metadata": {},
   "outputs": [
    {
     "name": "stdout",
     "output_type": "stream",
     "text": [
      "0    2287\n",
      "1     769\n",
      "Name: Class, dtype: int64\n"
     ]
    }
   ],
   "source": [
    "cleaned_test_df[\"Class\"] = solution_series\n",
    "cleaned_test_df.head()\n",
    "print(cleaned_test_df[\"Class\"].value_counts())"
   ]
  },
  {
   "cell_type": "code",
   "execution_count": 81,
   "id": "33fe66ab",
   "metadata": {},
   "outputs": [
    {
     "data": {
      "text/html": [
       "<div>\n",
       "<style scoped>\n",
       "    .dataframe tbody tr th:only-of-type {\n",
       "        vertical-align: middle;\n",
       "    }\n",
       "\n",
       "    .dataframe tbody tr th {\n",
       "        vertical-align: top;\n",
       "    }\n",
       "\n",
       "    .dataframe thead th {\n",
       "        text-align: right;\n",
       "    }\n",
       "</style>\n",
       "<table border=\"1\" class=\"dataframe\">\n",
       "  <thead>\n",
       "    <tr style=\"text-align: right;\">\n",
       "      <th></th>\n",
       "      <th>population</th>\n",
       "      <th>DispenseRate</th>\n",
       "      <th>PersonalIncome</th>\n",
       "      <th>PerCapitaPersonalIncome</th>\n",
       "      <th>LessThanHS</th>\n",
       "      <th>HSDiplomaOnly</th>\n",
       "      <th>SomeCollege</th>\n",
       "      <th>BachelorOrHigher</th>\n",
       "      <th>PovertyPop</th>\n",
       "      <th>UnemployedPop</th>\n",
       "    </tr>\n",
       "  </thead>\n",
       "  <tbody>\n",
       "    <tr>\n",
       "      <th>1</th>\n",
       "      <td>229287</td>\n",
       "      <td>65.0</td>\n",
       "      <td>51348.0</td>\n",
       "      <td>233140.0</td>\n",
       "      <td>20635.83</td>\n",
       "      <td>62824.64</td>\n",
       "      <td>71537.54</td>\n",
       "      <td>74518.28</td>\n",
       "      <td>20189.0</td>\n",
       "      <td>6159.0</td>\n",
       "    </tr>\n",
       "    <tr>\n",
       "      <th>27</th>\n",
       "      <td>102371</td>\n",
       "      <td>102.8</td>\n",
       "      <td>39795.0</td>\n",
       "      <td>103393.0</td>\n",
       "      <td>14127.20</td>\n",
       "      <td>34601.40</td>\n",
       "      <td>35215.62</td>\n",
       "      <td>18426.78</td>\n",
       "      <td>15650.0</td>\n",
       "      <td>3505.0</td>\n",
       "    </tr>\n",
       "    <tr>\n",
       "      <th>36</th>\n",
       "      <td>655342</td>\n",
       "      <td>139.0</td>\n",
       "      <td>58053.0</td>\n",
       "      <td>673341.0</td>\n",
       "      <td>58980.78</td>\n",
       "      <td>173010.29</td>\n",
       "      <td>195947.26</td>\n",
       "      <td>227403.67</td>\n",
       "      <td>92310.0</td>\n",
       "      <td>21947.0</td>\n",
       "    </tr>\n",
       "    <tr>\n",
       "      <th>44</th>\n",
       "      <td>379453</td>\n",
       "      <td>87.3</td>\n",
       "      <td>56499.0</td>\n",
       "      <td>389696.0</td>\n",
       "      <td>30356.24</td>\n",
       "      <td>72854.98</td>\n",
       "      <td>108144.11</td>\n",
       "      <td>168097.68</td>\n",
       "      <td>39100.0</td>\n",
       "      <td>9761.0</td>\n",
       "    </tr>\n",
       "    <tr>\n",
       "      <th>48</th>\n",
       "      <td>412716</td>\n",
       "      <td>98.0</td>\n",
       "      <td>42837.0</td>\n",
       "      <td>414250.0</td>\n",
       "      <td>49938.64</td>\n",
       "      <td>141148.87</td>\n",
       "      <td>122576.65</td>\n",
       "      <td>98639.12</td>\n",
       "      <td>71398.0</td>\n",
       "      <td>16931.0</td>\n",
       "    </tr>\n",
       "  </tbody>\n",
       "</table>\n",
       "</div>"
      ],
      "text/plain": [
       "    population  DispenseRate  PersonalIncome  PerCapitaPersonalIncome  \\\n",
       "1       229287          65.0         51348.0                 233140.0   \n",
       "27      102371         102.8         39795.0                 103393.0   \n",
       "36      655342         139.0         58053.0                 673341.0   \n",
       "44      379453          87.3         56499.0                 389696.0   \n",
       "48      412716          98.0         42837.0                 414250.0   \n",
       "\n",
       "    LessThanHS  HSDiplomaOnly  SomeCollege  BachelorOrHigher  PovertyPop  \\\n",
       "1     20635.83       62824.64     71537.54          74518.28     20189.0   \n",
       "27    14127.20       34601.40     35215.62          18426.78     15650.0   \n",
       "36    58980.78      173010.29    195947.26         227403.67     92310.0   \n",
       "44    30356.24       72854.98    108144.11         168097.68     39100.0   \n",
       "48    49938.64      141148.87    122576.65          98639.12     71398.0   \n",
       "\n",
       "    UnemployedPop  \n",
       "1          6159.0  \n",
       "27         3505.0  \n",
       "36        21947.0  \n",
       "44         9761.0  \n",
       "48        16931.0  "
      ]
     },
     "execution_count": 81,
     "metadata": {},
     "output_type": "execute_result"
    }
   ],
   "source": [
    "X = cleaned_test_df.copy()\n",
    "X = X.drop([\"State\",\"county\",\"countycode\",\"Year\",\"Class\",\"PovertyRate\",\"UnemployedRate\",\"cruderate\",\"deaths\"],axis=1)\n",
    "X.head()"
   ]
  },
  {
   "cell_type": "code",
   "execution_count": 82,
   "id": "1881a2c8",
   "metadata": {},
   "outputs": [
    {
     "name": "stdout",
     "output_type": "stream",
     "text": [
      "<class 'pandas.core.series.Series'>\n",
      "<class 'numpy.ndarray'>\n"
     ]
    }
   ],
   "source": [
    "y = cleaned_test_df[\"Class\"]\n",
    "test_y = cleaned_test_df[\"Class\"].ravel()\n",
    "print(type(y))\n",
    "print(type(test_y))"
   ]
  },
  {
   "cell_type": "code",
   "execution_count": 83,
   "id": "afe2c5d0",
   "metadata": {},
   "outputs": [],
   "source": [
    "X_train, X_test,y_train, y_test = train_test_split(X,y,random_state = 94)"
   ]
  },
  {
   "cell_type": "code",
   "execution_count": 84,
   "id": "fd88a6d1",
   "metadata": {},
   "outputs": [],
   "source": [
    "scaler = StandardScaler()\n",
    "X_scaler = scaler.fit(X_train)\n",
    "X_train_scaled = X_scaler.transform(X_train)\n",
    "X_test_scaled = X_scaler.transform(X_test)"
   ]
  },
  {
   "cell_type": "code",
   "execution_count": 85,
   "id": "5991fdf9",
   "metadata": {},
   "outputs": [],
   "source": [
    "rf_model = RandomForestClassifier(n_estimators=128, random_state=94) "
   ]
  },
  {
   "cell_type": "code",
   "execution_count": 86,
   "id": "663ee4cb",
   "metadata": {},
   "outputs": [],
   "source": [
    "rf_model = rf_model.fit(X_train_scaled, y_train)"
   ]
  },
  {
   "cell_type": "code",
   "execution_count": 87,
   "id": "ea03ca3e",
   "metadata": {},
   "outputs": [],
   "source": [
    "predictions = rf_model.predict(X_test_scaled)"
   ]
  },
  {
   "cell_type": "code",
   "execution_count": 88,
   "id": "1ed34da9",
   "metadata": {},
   "outputs": [],
   "source": [
    "cm = confusion_matrix(y_test, predictions)\n",
    "cm_df = pd.DataFrame(\n",
    "    cm, index=[\"Actual 0\", \"Actual 1\"], columns=[\"Predicted 0\", \"Predicted 1\"])\n",
    "\n",
    "#cm_df"
   ]
  },
  {
   "cell_type": "code",
   "execution_count": 89,
   "id": "f7624e14",
   "metadata": {},
   "outputs": [],
   "source": [
    "acc_score = accuracy_score(y_test, predictions)"
   ]
  },
  {
   "cell_type": "code",
   "execution_count": 90,
   "id": "477823f1",
   "metadata": {},
   "outputs": [
    {
     "name": "stdout",
     "output_type": "stream",
     "text": [
      "Confusion Matrix\n"
     ]
    },
    {
     "data": {
      "text/html": [
       "<div>\n",
       "<style scoped>\n",
       "    .dataframe tbody tr th:only-of-type {\n",
       "        vertical-align: middle;\n",
       "    }\n",
       "\n",
       "    .dataframe tbody tr th {\n",
       "        vertical-align: top;\n",
       "    }\n",
       "\n",
       "    .dataframe thead th {\n",
       "        text-align: right;\n",
       "    }\n",
       "</style>\n",
       "<table border=\"1\" class=\"dataframe\">\n",
       "  <thead>\n",
       "    <tr style=\"text-align: right;\">\n",
       "      <th></th>\n",
       "      <th>Predicted 0</th>\n",
       "      <th>Predicted 1</th>\n",
       "    </tr>\n",
       "  </thead>\n",
       "  <tbody>\n",
       "    <tr>\n",
       "      <th>Actual 0</th>\n",
       "      <td>536</td>\n",
       "      <td>39</td>\n",
       "    </tr>\n",
       "    <tr>\n",
       "      <th>Actual 1</th>\n",
       "      <td>81</td>\n",
       "      <td>108</td>\n",
       "    </tr>\n",
       "  </tbody>\n",
       "</table>\n",
       "</div>"
      ],
      "text/plain": [
       "          Predicted 0  Predicted 1\n",
       "Actual 0          536           39\n",
       "Actual 1           81          108"
      ]
     },
     "metadata": {},
     "output_type": "display_data"
    },
    {
     "name": "stdout",
     "output_type": "stream",
     "text": [
      "Accuracy Score : 0.8429319371727748\n",
      "Classification Report\n",
      "              precision    recall  f1-score   support\n",
      "\n",
      "           0       0.87      0.93      0.90       575\n",
      "           1       0.73      0.57      0.64       189\n",
      "\n",
      "    accuracy                           0.84       764\n",
      "   macro avg       0.80      0.75      0.77       764\n",
      "weighted avg       0.84      0.84      0.84       764\n",
      "\n"
     ]
    }
   ],
   "source": [
    "# Displaying results\n",
    "print(\"Confusion Matrix\")\n",
    "display(cm_df)\n",
    "print(f\"Accuracy Score : {acc_score}\")\n",
    "print(\"Classification Report\")\n",
    "print(classification_report(y_test, predictions))"
   ]
  },
  {
   "cell_type": "code",
   "execution_count": 91,
   "id": "643ae912",
   "metadata": {},
   "outputs": [
    {
     "data": {
      "text/plain": [
       "array([0.1703424 , 0.07165623, 0.07183777, 0.13533813, 0.08734406,\n",
       "       0.09766407, 0.08887849, 0.08749299, 0.07577779, 0.11366806])"
      ]
     },
     "execution_count": 91,
     "metadata": {},
     "output_type": "execute_result"
    }
   ],
   "source": [
    "# Calculate feature importance in the Random Forest model.\n",
    "importances = rf_model.feature_importances_\n",
    "importances"
   ]
  },
  {
   "cell_type": "code",
   "execution_count": 92,
   "id": "9a602dd7",
   "metadata": {},
   "outputs": [],
   "source": [
    "#I just want to try out SMOTEENN\n",
    "from imblearn.combine import SMOTEENN\n",
    "smote_enn = SMOTEENN(random_state=0)\n",
    "X_resampled, y_resampled = smote_enn.fit_resample(X_train, y_train)"
   ]
  },
  {
   "cell_type": "code",
   "execution_count": 93,
   "id": "38eaa5cd",
   "metadata": {},
   "outputs": [],
   "source": [
    "scaler2 = StandardScaler()\n",
    "X_scaler2 = scaler2.fit(X_resampled)\n",
    "X_train2_scaled = X_scaler2.transform(X_resampled)\n",
    "X_test2_scaled = X_scaler2.transform(X_test)"
   ]
  },
  {
   "cell_type": "code",
   "execution_count": 94,
   "id": "afbb4895",
   "metadata": {},
   "outputs": [],
   "source": [
    "rf_model2 = RandomForestClassifier(n_estimators=128, random_state=94) "
   ]
  },
  {
   "cell_type": "code",
   "execution_count": 95,
   "id": "733a2b41",
   "metadata": {},
   "outputs": [],
   "source": [
    "rf_model2 = rf_model2.fit(X_train2_scaled, y_resampled)"
   ]
  },
  {
   "cell_type": "code",
   "execution_count": 96,
   "id": "82caf29b",
   "metadata": {},
   "outputs": [],
   "source": [
    "predictions2 = rf_model2.predict(X_test_scaled)"
   ]
  },
  {
   "cell_type": "code",
   "execution_count": 97,
   "id": "95db0a54",
   "metadata": {},
   "outputs": [],
   "source": [
    "cm2 = confusion_matrix(y_test, predictions2)\n",
    "cm2_df = pd.DataFrame(\n",
    "    cm2, index=[\"Actual 0\", \"Actual 1\"], columns=[\"Predicted 0\", \"Predicted 1\"])\n",
    "\n",
    "#cm2_df"
   ]
  },
  {
   "cell_type": "code",
   "execution_count": 98,
   "id": "e11a9171",
   "metadata": {},
   "outputs": [],
   "source": [
    "acc_score2 = accuracy_score(y_test, predictions2)"
   ]
  },
  {
   "cell_type": "code",
   "execution_count": 99,
   "id": "bfe799ea",
   "metadata": {},
   "outputs": [
    {
     "name": "stdout",
     "output_type": "stream",
     "text": [
      "Confusion Matrix\n"
     ]
    },
    {
     "data": {
      "text/html": [
       "<div>\n",
       "<style scoped>\n",
       "    .dataframe tbody tr th:only-of-type {\n",
       "        vertical-align: middle;\n",
       "    }\n",
       "\n",
       "    .dataframe tbody tr th {\n",
       "        vertical-align: top;\n",
       "    }\n",
       "\n",
       "    .dataframe thead th {\n",
       "        text-align: right;\n",
       "    }\n",
       "</style>\n",
       "<table border=\"1\" class=\"dataframe\">\n",
       "  <thead>\n",
       "    <tr style=\"text-align: right;\">\n",
       "      <th></th>\n",
       "      <th>Predicted 0</th>\n",
       "      <th>Predicted 1</th>\n",
       "    </tr>\n",
       "  </thead>\n",
       "  <tbody>\n",
       "    <tr>\n",
       "      <th>Actual 0</th>\n",
       "      <td>426</td>\n",
       "      <td>149</td>\n",
       "    </tr>\n",
       "    <tr>\n",
       "      <th>Actual 1</th>\n",
       "      <td>58</td>\n",
       "      <td>131</td>\n",
       "    </tr>\n",
       "  </tbody>\n",
       "</table>\n",
       "</div>"
      ],
      "text/plain": [
       "          Predicted 0  Predicted 1\n",
       "Actual 0          426          149\n",
       "Actual 1           58          131"
      ]
     },
     "metadata": {},
     "output_type": "display_data"
    },
    {
     "name": "stdout",
     "output_type": "stream",
     "text": [
      "Accuracy Score : 0.7290575916230366\n",
      "Classification Report\n",
      "              precision    recall  f1-score   support\n",
      "\n",
      "           0       0.88      0.74      0.80       575\n",
      "           1       0.47      0.69      0.56       189\n",
      "\n",
      "    accuracy                           0.73       764\n",
      "   macro avg       0.67      0.72      0.68       764\n",
      "weighted avg       0.78      0.73      0.74       764\n",
      "\n"
     ]
    }
   ],
   "source": [
    "# Displaying results\n",
    "print(\"Confusion Matrix\")\n",
    "display(cm2_df)\n",
    "print(f\"Accuracy Score : {acc_score2}\")\n",
    "print(\"Classification Report\")\n",
    "print(classification_report(y_test, predictions2))"
   ]
  },
  {
   "cell_type": "code",
   "execution_count": 100,
   "id": "169423c4",
   "metadata": {},
   "outputs": [
    {
     "data": {
      "text/plain": [
       "array([0.18898751, 0.06557377, 0.07363999, 0.14612253, 0.08553225,\n",
       "       0.09761144, 0.09095363, 0.08725005, 0.06833221, 0.09599663])"
      ]
     },
     "execution_count": 100,
     "metadata": {},
     "output_type": "execute_result"
    }
   ],
   "source": [
    "# Calculate feature importance in the Random Forest model.\n",
    "importances2 = rf_model2.feature_importances_\n",
    "importances2"
   ]
  },
  {
   "cell_type": "code",
   "execution_count": null,
   "id": "a068b257",
   "metadata": {},
   "outputs": [],
   "source": []
  },
  {
   "cell_type": "code",
   "execution_count": null,
   "id": "4dae59cf",
   "metadata": {},
   "outputs": [],
   "source": []
  },
  {
   "cell_type": "code",
   "execution_count": null,
   "id": "c693eaaa",
   "metadata": {},
   "outputs": [],
   "source": []
  }
 ],
 "metadata": {
  "kernelspec": {
   "display_name": "mlenv",
   "language": "python",
   "name": "mlenv"
  },
  "language_info": {
   "codemirror_mode": {
    "name": "ipython",
    "version": 3
   },
   "file_extension": ".py",
   "mimetype": "text/x-python",
   "name": "python",
   "nbconvert_exporter": "python",
   "pygments_lexer": "ipython3",
   "version": "3.7.13"
  }
 },
 "nbformat": 4,
 "nbformat_minor": 5
}
